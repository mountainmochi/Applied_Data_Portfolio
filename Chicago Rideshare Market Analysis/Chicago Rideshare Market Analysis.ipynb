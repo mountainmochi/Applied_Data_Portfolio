{
  "nbformat": 4,
  "nbformat_minor": 0,
  "metadata": {
    "colab": {
      "provenance": []
    },
    "kernelspec": {
      "name": "python3",
      "display_name": "Python 3"
    },
    "language_info": {
      "name": "python"
    }
  },
  "cells": [
    {
      "cell_type": "markdown",
      "source": [
        "### **MSCA37014 Team 10 Group Project**"
      ],
      "metadata": {
        "id": "wZMLLNdyFOB_"
      }
    },
    {
      "cell_type": "markdown",
      "source": [
        "### Module Import"
      ],
      "metadata": {
        "id": "uDknBezWwIfs"
      }
    },
    {
      "cell_type": "code",
      "execution_count": null,
      "metadata": {
        "id": "-cHZiNxyv_bj"
      },
      "outputs": [],
      "source": [
        "import pandas as pd\n",
        "import numpy as np\n",
        "import matplotlib.pyplot as plt"
      ]
    },
    {
      "cell_type": "markdown",
      "source": [
        "### Mount google drive: Using Google Drive and Google Colab as our main workspace for data preparation and manipulation. Also, using Google Drive to share data within the group to create an accessible workspace."
      ],
      "metadata": {
        "id": "YWIpGYHtzUlY"
      }
    },
    {
      "cell_type": "code",
      "source": [
        "# Load the Drive helper and mount\n",
        "from google.colab import drive\n",
        "\n",
        "# This will prompt for authorization.\n",
        "drive.mount('/content/drive')"
      ],
      "metadata": {
        "colab": {
          "base_uri": "https://localhost:8080/"
        },
        "id": "cFc56J3yzTKz",
        "outputId": "307892f3-1988-404e-ff9b-77dddeab0a5f"
      },
      "execution_count": null,
      "outputs": [
        {
          "output_type": "stream",
          "name": "stdout",
          "text": [
            "Mounted at /content/drive\n"
          ]
        }
      ]
    },
    {
      "cell_type": "markdown",
      "source": [
        "### Data Import"
      ],
      "metadata": {
        "id": "bMpYtSXUnpqN"
      }
    },
    {
      "cell_type": "markdown",
      "source": [
        "Rideshare data"
      ],
      "metadata": {
        "id": "_f-bC8EgEA2N"
      }
    },
    {
      "cell_type": "code",
      "source": [
        "# Rideshare data\n",
        "ride = pd.read_csv('/content/drive/My Drive/Colab Datasets/group/Transportation_Network_Providers_-_Vehicles.csv')\n",
        "#ride = pd.read_csv('/content/drive/My Drive/Copy_Transportation_Network_Providers_-_Vehicles.csv')\n",
        "ride = pd.DataFrame(ride)\n",
        "ride.head()"
      ],
      "metadata": {
        "colab": {
          "base_uri": "https://localhost:8080/",
          "height": 206
        },
        "id": "wOJGh3jtwGbe",
        "outputId": "bcedf20a-3d42-45e1-ce7f-a74f4bbe306c"
      },
      "execution_count": null,
      "outputs": [
        {
          "output_type": "execute_result",
          "data": {
            "text/plain": [
              "  MONTH_REPORTED STATE    MAKE       MODEL COLOR    YEAR  \\\n",
              "0        2017-09    IL  Nissan  Pathfinder   Red  2016.0   \n",
              "1        2016-10    IL  Nissan      Altima   NaN  2016.0   \n",
              "2        2018-01    IL  Nissan      Altima  Gray  2014.0   \n",
              "3        2015-12    IL  Toyota       Prius   NaN  2010.0   \n",
              "4        2017-10    IL  Toyota       Camry  Gray  2012.0   \n",
              "\n",
              "  LAST_INSPECTION_MONTH  NUMBER_OF_TRIPS  MULTIPLE_TNPS  \n",
              "0               2017-06              NaN           True  \n",
              "1                   NaN              NaN           True  \n",
              "2               2017-10              NaN           True  \n",
              "3                   NaN              0.0          False  \n",
              "4               2017-09              NaN           True  "
            ],
            "text/html": [
              "\n",
              "  <div id=\"df-642d6a3c-466a-4cc2-baa0-4a3d62273ced\">\n",
              "    <div class=\"colab-df-container\">\n",
              "      <div>\n",
              "<style scoped>\n",
              "    .dataframe tbody tr th:only-of-type {\n",
              "        vertical-align: middle;\n",
              "    }\n",
              "\n",
              "    .dataframe tbody tr th {\n",
              "        vertical-align: top;\n",
              "    }\n",
              "\n",
              "    .dataframe thead th {\n",
              "        text-align: right;\n",
              "    }\n",
              "</style>\n",
              "<table border=\"1\" class=\"dataframe\">\n",
              "  <thead>\n",
              "    <tr style=\"text-align: right;\">\n",
              "      <th></th>\n",
              "      <th>MONTH_REPORTED</th>\n",
              "      <th>STATE</th>\n",
              "      <th>MAKE</th>\n",
              "      <th>MODEL</th>\n",
              "      <th>COLOR</th>\n",
              "      <th>YEAR</th>\n",
              "      <th>LAST_INSPECTION_MONTH</th>\n",
              "      <th>NUMBER_OF_TRIPS</th>\n",
              "      <th>MULTIPLE_TNPS</th>\n",
              "    </tr>\n",
              "  </thead>\n",
              "  <tbody>\n",
              "    <tr>\n",
              "      <th>0</th>\n",
              "      <td>2017-09</td>\n",
              "      <td>IL</td>\n",
              "      <td>Nissan</td>\n",
              "      <td>Pathfinder</td>\n",
              "      <td>Red</td>\n",
              "      <td>2016.0</td>\n",
              "      <td>2017-06</td>\n",
              "      <td>NaN</td>\n",
              "      <td>True</td>\n",
              "    </tr>\n",
              "    <tr>\n",
              "      <th>1</th>\n",
              "      <td>2016-10</td>\n",
              "      <td>IL</td>\n",
              "      <td>Nissan</td>\n",
              "      <td>Altima</td>\n",
              "      <td>NaN</td>\n",
              "      <td>2016.0</td>\n",
              "      <td>NaN</td>\n",
              "      <td>NaN</td>\n",
              "      <td>True</td>\n",
              "    </tr>\n",
              "    <tr>\n",
              "      <th>2</th>\n",
              "      <td>2018-01</td>\n",
              "      <td>IL</td>\n",
              "      <td>Nissan</td>\n",
              "      <td>Altima</td>\n",
              "      <td>Gray</td>\n",
              "      <td>2014.0</td>\n",
              "      <td>2017-10</td>\n",
              "      <td>NaN</td>\n",
              "      <td>True</td>\n",
              "    </tr>\n",
              "    <tr>\n",
              "      <th>3</th>\n",
              "      <td>2015-12</td>\n",
              "      <td>IL</td>\n",
              "      <td>Toyota</td>\n",
              "      <td>Prius</td>\n",
              "      <td>NaN</td>\n",
              "      <td>2010.0</td>\n",
              "      <td>NaN</td>\n",
              "      <td>0.0</td>\n",
              "      <td>False</td>\n",
              "    </tr>\n",
              "    <tr>\n",
              "      <th>4</th>\n",
              "      <td>2017-10</td>\n",
              "      <td>IL</td>\n",
              "      <td>Toyota</td>\n",
              "      <td>Camry</td>\n",
              "      <td>Gray</td>\n",
              "      <td>2012.0</td>\n",
              "      <td>2017-09</td>\n",
              "      <td>NaN</td>\n",
              "      <td>True</td>\n",
              "    </tr>\n",
              "  </tbody>\n",
              "</table>\n",
              "</div>\n",
              "      <button class=\"colab-df-convert\" onclick=\"convertToInteractive('df-642d6a3c-466a-4cc2-baa0-4a3d62273ced')\"\n",
              "              title=\"Convert this dataframe to an interactive table.\"\n",
              "              style=\"display:none;\">\n",
              "        \n",
              "  <svg xmlns=\"http://www.w3.org/2000/svg\" height=\"24px\"viewBox=\"0 0 24 24\"\n",
              "       width=\"24px\">\n",
              "    <path d=\"M0 0h24v24H0V0z\" fill=\"none\"/>\n",
              "    <path d=\"M18.56 5.44l.94 2.06.94-2.06 2.06-.94-2.06-.94-.94-2.06-.94 2.06-2.06.94zm-11 1L8.5 8.5l.94-2.06 2.06-.94-2.06-.94L8.5 2.5l-.94 2.06-2.06.94zm10 10l.94 2.06.94-2.06 2.06-.94-2.06-.94-.94-2.06-.94 2.06-2.06.94z\"/><path d=\"M17.41 7.96l-1.37-1.37c-.4-.4-.92-.59-1.43-.59-.52 0-1.04.2-1.43.59L10.3 9.45l-7.72 7.72c-.78.78-.78 2.05 0 2.83L4 21.41c.39.39.9.59 1.41.59.51 0 1.02-.2 1.41-.59l7.78-7.78 2.81-2.81c.8-.78.8-2.07 0-2.86zM5.41 20L4 18.59l7.72-7.72 1.47 1.35L5.41 20z\"/>\n",
              "  </svg>\n",
              "      </button>\n",
              "      \n",
              "  <style>\n",
              "    .colab-df-container {\n",
              "      display:flex;\n",
              "      flex-wrap:wrap;\n",
              "      gap: 12px;\n",
              "    }\n",
              "\n",
              "    .colab-df-convert {\n",
              "      background-color: #E8F0FE;\n",
              "      border: none;\n",
              "      border-radius: 50%;\n",
              "      cursor: pointer;\n",
              "      display: none;\n",
              "      fill: #1967D2;\n",
              "      height: 32px;\n",
              "      padding: 0 0 0 0;\n",
              "      width: 32px;\n",
              "    }\n",
              "\n",
              "    .colab-df-convert:hover {\n",
              "      background-color: #E2EBFA;\n",
              "      box-shadow: 0px 1px 2px rgba(60, 64, 67, 0.3), 0px 1px 3px 1px rgba(60, 64, 67, 0.15);\n",
              "      fill: #174EA6;\n",
              "    }\n",
              "\n",
              "    [theme=dark] .colab-df-convert {\n",
              "      background-color: #3B4455;\n",
              "      fill: #D2E3FC;\n",
              "    }\n",
              "\n",
              "    [theme=dark] .colab-df-convert:hover {\n",
              "      background-color: #434B5C;\n",
              "      box-shadow: 0px 1px 3px 1px rgba(0, 0, 0, 0.15);\n",
              "      filter: drop-shadow(0px 1px 2px rgba(0, 0, 0, 0.3));\n",
              "      fill: #FFFFFF;\n",
              "    }\n",
              "  </style>\n",
              "\n",
              "      <script>\n",
              "        const buttonEl =\n",
              "          document.querySelector('#df-642d6a3c-466a-4cc2-baa0-4a3d62273ced button.colab-df-convert');\n",
              "        buttonEl.style.display =\n",
              "          google.colab.kernel.accessAllowed ? 'block' : 'none';\n",
              "\n",
              "        async function convertToInteractive(key) {\n",
              "          const element = document.querySelector('#df-642d6a3c-466a-4cc2-baa0-4a3d62273ced');\n",
              "          const dataTable =\n",
              "            await google.colab.kernel.invokeFunction('convertToInteractive',\n",
              "                                                     [key], {});\n",
              "          if (!dataTable) return;\n",
              "\n",
              "          const docLinkHtml = 'Like what you see? Visit the ' +\n",
              "            '<a target=\"_blank\" href=https://colab.research.google.com/notebooks/data_table.ipynb>data table notebook</a>'\n",
              "            + ' to learn more about interactive tables.';\n",
              "          element.innerHTML = '';\n",
              "          dataTable['output_type'] = 'display_data';\n",
              "          await google.colab.output.renderOutput(dataTable, element);\n",
              "          const docLink = document.createElement('div');\n",
              "          docLink.innerHTML = docLinkHtml;\n",
              "          element.appendChild(docLink);\n",
              "        }\n",
              "      </script>\n",
              "    </div>\n",
              "  </div>\n",
              "  "
            ]
          },
          "metadata": {},
          "execution_count": 11
        }
      ]
    },
    {
      "cell_type": "code",
      "source": [
        "ride.shape"
      ],
      "metadata": {
        "colab": {
          "base_uri": "https://localhost:8080/"
        },
        "id": "7fr7kyFj32ZP",
        "outputId": "f66ffa2e-2f81-4ca4-a317-386875e31fd1"
      },
      "execution_count": null,
      "outputs": [
        {
          "output_type": "execute_result",
          "data": {
            "text/plain": [
              "(8763868, 9)"
            ]
          },
          "metadata": {},
          "execution_count": 12
        }
      ]
    },
    {
      "cell_type": "code",
      "source": [
        "ride.dtypes"
      ],
      "metadata": {
        "colab": {
          "base_uri": "https://localhost:8080/"
        },
        "id": "KSLmQ6CnahjZ",
        "outputId": "05da1076-6f44-4eca-efb8-a8d71b248ffa"
      },
      "execution_count": null,
      "outputs": [
        {
          "output_type": "execute_result",
          "data": {
            "text/plain": [
              "MONTH_REPORTED            object\n",
              "STATE                     object\n",
              "MAKE                      object\n",
              "MODEL                     object\n",
              "COLOR                     object\n",
              "YEAR                     float64\n",
              "LAST_INSPECTION_MONTH     object\n",
              "NUMBER_OF_TRIPS          float64\n",
              "MULTIPLE_TNPS               bool\n",
              "dtype: object"
            ]
          },
          "metadata": {},
          "execution_count": 13
        }
      ]
    },
    {
      "cell_type": "markdown",
      "source": [
        "Crime data "
      ],
      "metadata": {
        "id": "uX9zoAGgEEhk"
      }
    },
    {
      "cell_type": "code",
      "source": [
        "crime = pd.read_csv('/content/drive/My Drive/Colab Datasets/group/crimes_2018_to_2022.csv')\n",
        "#crime = pd.read_csv('/content/drive/My Drive/Copy_crimes_2018_to_2022.csv')\n",
        "crime = pd.DataFrame(crime)\n",
        "crime.head()"
      ],
      "metadata": {
        "colab": {
          "base_uri": "https://localhost:8080/",
          "height": 542
        },
        "id": "Uad3aa9Jzfub",
        "outputId": "506473f6-db62-4a0f-b3c3-14cda554e706"
      },
      "execution_count": null,
      "outputs": [
        {
          "output_type": "execute_result",
          "data": {
            "text/plain": [
              "         ID Case Number                    Date                  Block  IUCR  \\\n",
              "0  11646166    JC213529  09/01/2018 12:01:00 AM  082XX S INGLESIDE AVE  0810   \n",
              "1  11645648    JC212959  01/01/2018 08:00:00 AM    024XX N MONITOR AVE  1153   \n",
              "2  11645959    JC211511  12/20/2018 04:00:00 PM     045XX N ALBANY AVE  2820   \n",
              "3  11645557    JC212685  04/01/2018 12:01:00 AM     080XX S VERNON AVE  1153   \n",
              "4  11646293    JC213749  12/20/2018 03:00:00 PM   023XX N LOCKWOOD AVE  1154   \n",
              "\n",
              "         Primary Type                              Description  \\\n",
              "0               THEFT                                OVER $500   \n",
              "1  DECEPTIVE PRACTICE      FINANCIAL IDENTITY THEFT OVER $ 300   \n",
              "2       OTHER OFFENSE                         TELEPHONE THREAT   \n",
              "3  DECEPTIVE PRACTICE      FINANCIAL IDENTITY THEFT OVER $ 300   \n",
              "4  DECEPTIVE PRACTICE  FINANCIAL IDENTITY THEFT $300 AND UNDER   \n",
              "\n",
              "  Location Description  Arrest  Domestic  ...  Ward  Community Area  FBI Code  \\\n",
              "0            RESIDENCE   False      True  ...   8.0            44.0        06   \n",
              "1            RESIDENCE   False     False  ...  30.0            19.0        11   \n",
              "2            RESIDENCE   False     False  ...  33.0            14.0       08A   \n",
              "3            RESIDENCE   False     False  ...   6.0            44.0        11   \n",
              "4            APARTMENT   False     False  ...  36.0            19.0        11   \n",
              "\n",
              "   X Coordinate Y Coordinate  Year              Updated On  Latitude  \\\n",
              "0           NaN          NaN  2018  04/06/2019 04:04:43 PM       NaN   \n",
              "1           NaN          NaN  2018  04/06/2019 04:04:43 PM       NaN   \n",
              "2           NaN          NaN  2018  04/06/2019 04:04:43 PM       NaN   \n",
              "3           NaN          NaN  2018  04/06/2019 04:04:43 PM       NaN   \n",
              "4           NaN          NaN  2018  04/06/2019 04:04:43 PM       NaN   \n",
              "\n",
              "  Longitude  Location  \n",
              "0       NaN       NaN  \n",
              "1       NaN       NaN  \n",
              "2       NaN       NaN  \n",
              "3       NaN       NaN  \n",
              "4       NaN       NaN  \n",
              "\n",
              "[5 rows x 22 columns]"
            ],
            "text/html": [
              "\n",
              "  <div id=\"df-f65692ad-928d-4418-9a3d-9e01a7cfdb7c\">\n",
              "    <div class=\"colab-df-container\">\n",
              "      <div>\n",
              "<style scoped>\n",
              "    .dataframe tbody tr th:only-of-type {\n",
              "        vertical-align: middle;\n",
              "    }\n",
              "\n",
              "    .dataframe tbody tr th {\n",
              "        vertical-align: top;\n",
              "    }\n",
              "\n",
              "    .dataframe thead th {\n",
              "        text-align: right;\n",
              "    }\n",
              "</style>\n",
              "<table border=\"1\" class=\"dataframe\">\n",
              "  <thead>\n",
              "    <tr style=\"text-align: right;\">\n",
              "      <th></th>\n",
              "      <th>ID</th>\n",
              "      <th>Case Number</th>\n",
              "      <th>Date</th>\n",
              "      <th>Block</th>\n",
              "      <th>IUCR</th>\n",
              "      <th>Primary Type</th>\n",
              "      <th>Description</th>\n",
              "      <th>Location Description</th>\n",
              "      <th>Arrest</th>\n",
              "      <th>Domestic</th>\n",
              "      <th>...</th>\n",
              "      <th>Ward</th>\n",
              "      <th>Community Area</th>\n",
              "      <th>FBI Code</th>\n",
              "      <th>X Coordinate</th>\n",
              "      <th>Y Coordinate</th>\n",
              "      <th>Year</th>\n",
              "      <th>Updated On</th>\n",
              "      <th>Latitude</th>\n",
              "      <th>Longitude</th>\n",
              "      <th>Location</th>\n",
              "    </tr>\n",
              "  </thead>\n",
              "  <tbody>\n",
              "    <tr>\n",
              "      <th>0</th>\n",
              "      <td>11646166</td>\n",
              "      <td>JC213529</td>\n",
              "      <td>09/01/2018 12:01:00 AM</td>\n",
              "      <td>082XX S INGLESIDE AVE</td>\n",
              "      <td>0810</td>\n",
              "      <td>THEFT</td>\n",
              "      <td>OVER $500</td>\n",
              "      <td>RESIDENCE</td>\n",
              "      <td>False</td>\n",
              "      <td>True</td>\n",
              "      <td>...</td>\n",
              "      <td>8.0</td>\n",
              "      <td>44.0</td>\n",
              "      <td>06</td>\n",
              "      <td>NaN</td>\n",
              "      <td>NaN</td>\n",
              "      <td>2018</td>\n",
              "      <td>04/06/2019 04:04:43 PM</td>\n",
              "      <td>NaN</td>\n",
              "      <td>NaN</td>\n",
              "      <td>NaN</td>\n",
              "    </tr>\n",
              "    <tr>\n",
              "      <th>1</th>\n",
              "      <td>11645648</td>\n",
              "      <td>JC212959</td>\n",
              "      <td>01/01/2018 08:00:00 AM</td>\n",
              "      <td>024XX N MONITOR AVE</td>\n",
              "      <td>1153</td>\n",
              "      <td>DECEPTIVE PRACTICE</td>\n",
              "      <td>FINANCIAL IDENTITY THEFT OVER $ 300</td>\n",
              "      <td>RESIDENCE</td>\n",
              "      <td>False</td>\n",
              "      <td>False</td>\n",
              "      <td>...</td>\n",
              "      <td>30.0</td>\n",
              "      <td>19.0</td>\n",
              "      <td>11</td>\n",
              "      <td>NaN</td>\n",
              "      <td>NaN</td>\n",
              "      <td>2018</td>\n",
              "      <td>04/06/2019 04:04:43 PM</td>\n",
              "      <td>NaN</td>\n",
              "      <td>NaN</td>\n",
              "      <td>NaN</td>\n",
              "    </tr>\n",
              "    <tr>\n",
              "      <th>2</th>\n",
              "      <td>11645959</td>\n",
              "      <td>JC211511</td>\n",
              "      <td>12/20/2018 04:00:00 PM</td>\n",
              "      <td>045XX N ALBANY AVE</td>\n",
              "      <td>2820</td>\n",
              "      <td>OTHER OFFENSE</td>\n",
              "      <td>TELEPHONE THREAT</td>\n",
              "      <td>RESIDENCE</td>\n",
              "      <td>False</td>\n",
              "      <td>False</td>\n",
              "      <td>...</td>\n",
              "      <td>33.0</td>\n",
              "      <td>14.0</td>\n",
              "      <td>08A</td>\n",
              "      <td>NaN</td>\n",
              "      <td>NaN</td>\n",
              "      <td>2018</td>\n",
              "      <td>04/06/2019 04:04:43 PM</td>\n",
              "      <td>NaN</td>\n",
              "      <td>NaN</td>\n",
              "      <td>NaN</td>\n",
              "    </tr>\n",
              "    <tr>\n",
              "      <th>3</th>\n",
              "      <td>11645557</td>\n",
              "      <td>JC212685</td>\n",
              "      <td>04/01/2018 12:01:00 AM</td>\n",
              "      <td>080XX S VERNON AVE</td>\n",
              "      <td>1153</td>\n",
              "      <td>DECEPTIVE PRACTICE</td>\n",
              "      <td>FINANCIAL IDENTITY THEFT OVER $ 300</td>\n",
              "      <td>RESIDENCE</td>\n",
              "      <td>False</td>\n",
              "      <td>False</td>\n",
              "      <td>...</td>\n",
              "      <td>6.0</td>\n",
              "      <td>44.0</td>\n",
              "      <td>11</td>\n",
              "      <td>NaN</td>\n",
              "      <td>NaN</td>\n",
              "      <td>2018</td>\n",
              "      <td>04/06/2019 04:04:43 PM</td>\n",
              "      <td>NaN</td>\n",
              "      <td>NaN</td>\n",
              "      <td>NaN</td>\n",
              "    </tr>\n",
              "    <tr>\n",
              "      <th>4</th>\n",
              "      <td>11646293</td>\n",
              "      <td>JC213749</td>\n",
              "      <td>12/20/2018 03:00:00 PM</td>\n",
              "      <td>023XX N LOCKWOOD AVE</td>\n",
              "      <td>1154</td>\n",
              "      <td>DECEPTIVE PRACTICE</td>\n",
              "      <td>FINANCIAL IDENTITY THEFT $300 AND UNDER</td>\n",
              "      <td>APARTMENT</td>\n",
              "      <td>False</td>\n",
              "      <td>False</td>\n",
              "      <td>...</td>\n",
              "      <td>36.0</td>\n",
              "      <td>19.0</td>\n",
              "      <td>11</td>\n",
              "      <td>NaN</td>\n",
              "      <td>NaN</td>\n",
              "      <td>2018</td>\n",
              "      <td>04/06/2019 04:04:43 PM</td>\n",
              "      <td>NaN</td>\n",
              "      <td>NaN</td>\n",
              "      <td>NaN</td>\n",
              "    </tr>\n",
              "  </tbody>\n",
              "</table>\n",
              "<p>5 rows × 22 columns</p>\n",
              "</div>\n",
              "      <button class=\"colab-df-convert\" onclick=\"convertToInteractive('df-f65692ad-928d-4418-9a3d-9e01a7cfdb7c')\"\n",
              "              title=\"Convert this dataframe to an interactive table.\"\n",
              "              style=\"display:none;\">\n",
              "        \n",
              "  <svg xmlns=\"http://www.w3.org/2000/svg\" height=\"24px\"viewBox=\"0 0 24 24\"\n",
              "       width=\"24px\">\n",
              "    <path d=\"M0 0h24v24H0V0z\" fill=\"none\"/>\n",
              "    <path d=\"M18.56 5.44l.94 2.06.94-2.06 2.06-.94-2.06-.94-.94-2.06-.94 2.06-2.06.94zm-11 1L8.5 8.5l.94-2.06 2.06-.94-2.06-.94L8.5 2.5l-.94 2.06-2.06.94zm10 10l.94 2.06.94-2.06 2.06-.94-2.06-.94-.94-2.06-.94 2.06-2.06.94z\"/><path d=\"M17.41 7.96l-1.37-1.37c-.4-.4-.92-.59-1.43-.59-.52 0-1.04.2-1.43.59L10.3 9.45l-7.72 7.72c-.78.78-.78 2.05 0 2.83L4 21.41c.39.39.9.59 1.41.59.51 0 1.02-.2 1.41-.59l7.78-7.78 2.81-2.81c.8-.78.8-2.07 0-2.86zM5.41 20L4 18.59l7.72-7.72 1.47 1.35L5.41 20z\"/>\n",
              "  </svg>\n",
              "      </button>\n",
              "      \n",
              "  <style>\n",
              "    .colab-df-container {\n",
              "      display:flex;\n",
              "      flex-wrap:wrap;\n",
              "      gap: 12px;\n",
              "    }\n",
              "\n",
              "    .colab-df-convert {\n",
              "      background-color: #E8F0FE;\n",
              "      border: none;\n",
              "      border-radius: 50%;\n",
              "      cursor: pointer;\n",
              "      display: none;\n",
              "      fill: #1967D2;\n",
              "      height: 32px;\n",
              "      padding: 0 0 0 0;\n",
              "      width: 32px;\n",
              "    }\n",
              "\n",
              "    .colab-df-convert:hover {\n",
              "      background-color: #E2EBFA;\n",
              "      box-shadow: 0px 1px 2px rgba(60, 64, 67, 0.3), 0px 1px 3px 1px rgba(60, 64, 67, 0.15);\n",
              "      fill: #174EA6;\n",
              "    }\n",
              "\n",
              "    [theme=dark] .colab-df-convert {\n",
              "      background-color: #3B4455;\n",
              "      fill: #D2E3FC;\n",
              "    }\n",
              "\n",
              "    [theme=dark] .colab-df-convert:hover {\n",
              "      background-color: #434B5C;\n",
              "      box-shadow: 0px 1px 3px 1px rgba(0, 0, 0, 0.15);\n",
              "      filter: drop-shadow(0px 1px 2px rgba(0, 0, 0, 0.3));\n",
              "      fill: #FFFFFF;\n",
              "    }\n",
              "  </style>\n",
              "\n",
              "      <script>\n",
              "        const buttonEl =\n",
              "          document.querySelector('#df-f65692ad-928d-4418-9a3d-9e01a7cfdb7c button.colab-df-convert');\n",
              "        buttonEl.style.display =\n",
              "          google.colab.kernel.accessAllowed ? 'block' : 'none';\n",
              "\n",
              "        async function convertToInteractive(key) {\n",
              "          const element = document.querySelector('#df-f65692ad-928d-4418-9a3d-9e01a7cfdb7c');\n",
              "          const dataTable =\n",
              "            await google.colab.kernel.invokeFunction('convertToInteractive',\n",
              "                                                     [key], {});\n",
              "          if (!dataTable) return;\n",
              "\n",
              "          const docLinkHtml = 'Like what you see? Visit the ' +\n",
              "            '<a target=\"_blank\" href=https://colab.research.google.com/notebooks/data_table.ipynb>data table notebook</a>'\n",
              "            + ' to learn more about interactive tables.';\n",
              "          element.innerHTML = '';\n",
              "          dataTable['output_type'] = 'display_data';\n",
              "          await google.colab.output.renderOutput(dataTable, element);\n",
              "          const docLink = document.createElement('div');\n",
              "          docLink.innerHTML = docLinkHtml;\n",
              "          element.appendChild(docLink);\n",
              "        }\n",
              "      </script>\n",
              "    </div>\n",
              "  </div>\n",
              "  "
            ]
          },
          "metadata": {},
          "execution_count": 17
        }
      ]
    },
    {
      "cell_type": "code",
      "source": [
        "crime.shape"
      ],
      "metadata": {
        "colab": {
          "base_uri": "https://localhost:8080/"
        },
        "id": "kO5ggdNp1IB5",
        "outputId": "a509fa1f-8872-4899-b4cf-6d453082bbf0"
      },
      "execution_count": null,
      "outputs": [
        {
          "output_type": "execute_result",
          "data": {
            "text/plain": [
              "(1154727, 22)"
            ]
          },
          "metadata": {},
          "execution_count": 18
        }
      ]
    },
    {
      "cell_type": "code",
      "source": [
        "crime.dtypes"
      ],
      "metadata": {
        "colab": {
          "base_uri": "https://localhost:8080/"
        },
        "id": "E5625K70a4VK",
        "outputId": "7622c0fb-3351-4338-99d0-302cf88ac533"
      },
      "execution_count": null,
      "outputs": [
        {
          "output_type": "execute_result",
          "data": {
            "text/plain": [
              "ID                        int64\n",
              "Case Number              object\n",
              "Date                     object\n",
              "Block                    object\n",
              "IUCR                     object\n",
              "Primary Type             object\n",
              "Description              object\n",
              "Location Description     object\n",
              "Arrest                     bool\n",
              "Domestic                   bool\n",
              "Beat                      int64\n",
              "District                  int64\n",
              "Ward                    float64\n",
              "Community Area          float64\n",
              "FBI Code                 object\n",
              "X Coordinate            float64\n",
              "Y Coordinate            float64\n",
              "Year                      int64\n",
              "Updated On               object\n",
              "Latitude                float64\n",
              "Longitude               float64\n",
              "Location                 object\n",
              "dtype: object"
            ]
          },
          "metadata": {},
          "execution_count": 19
        }
      ]
    },
    {
      "cell_type": "markdown",
      "source": [
        "Book sales and revenue data"
      ],
      "metadata": {
        "id": "AzP8m--eEHad"
      }
    },
    {
      "cell_type": "code",
      "source": [
        "kep = pd.read_csv('/content/drive/My Drive/Colab Datasets/group/KEP_US_2212_Python_Project.csv')\n",
        "#kep = pd.read_csv('/content/drive/My Drive/Copy_KEP_US_2212_Python_Project.csv')\n",
        "kep = pd.DataFrame(kep)\n",
        "kep.head()"
      ],
      "metadata": {
        "colab": {
          "base_uri": "https://localhost:8080/",
          "height": 559
        },
        "id": "jJRDO91KC9G2",
        "outputId": "da4d3bcf-da90-4a2c-ed1e-d365da39b388"
      },
      "execution_count": null,
      "outputs": [
        {
          "output_type": "execute_result",
          "data": {
            "text/plain": [
              "    Sale Date                 Imprint Name         ISBN Product Type  \\\n",
              "0  2022-12-02  University of Chicago Press  226180939.0    Paperback   \n",
              "1  2022-12-03              Signature Books  560854579.0    Paperback   \n",
              "2  2022-12-22  University of Chicago Press  226425924.0    Paperback   \n",
              "3  2022-12-09  University of Chicago Press  226740065.0    Paperback   \n",
              "4  2022-12-10  University of Chicago Press  226672984.0    Paperback   \n",
              "\n",
              "  Extended Price %  List Price  Total List Price  Extended Price Per Unit  \\\n",
              "0            53.0%       17.00             17.00                    9.010   \n",
              "1            52.0%        9.95              9.95                    5.174   \n",
              "2            80.0%       34.00            102.00                   27.200   \n",
              "3            80.0%       37.00             37.00                   29.600   \n",
              "4            59.0%       21.00             21.00                   12.390   \n",
              "\n",
              "   Total Extended Price  Unit Fees  ...  Unnamed: 1003 Unnamed: 1004  \\\n",
              "0                 9.010       3.44  ...            NaN           NaN   \n",
              "1                 5.174       2.29  ...            NaN           NaN   \n",
              "2                81.600       5.12  ...            NaN           NaN   \n",
              "3                29.600       3.20  ...            NaN           NaN   \n",
              "4                12.390       2.39  ...            NaN           NaN   \n",
              "\n",
              "   Unnamed: 1005  Unnamed: 1006  Unnamed: 1007  Unnamed: 1008  Unnamed: 1009  \\\n",
              "0            NaN            NaN            NaN            NaN            NaN   \n",
              "1            NaN            NaN            NaN            NaN            NaN   \n",
              "2            NaN            NaN            NaN            NaN            NaN   \n",
              "3            NaN            NaN            NaN            NaN            NaN   \n",
              "4            NaN            NaN            NaN            NaN            NaN   \n",
              "\n",
              "  Unnamed: 1010  Unnamed: 1011  Unnamed: 1012  \n",
              "0           NaN            NaN            NaN  \n",
              "1           NaN            NaN            NaN  \n",
              "2           NaN            NaN            NaN  \n",
              "3           NaN            NaN            NaN  \n",
              "4           NaN            NaN            NaN  \n",
              "\n",
              "[5 rows x 1013 columns]"
            ],
            "text/html": [
              "\n",
              "  <div id=\"df-bbb24d1c-25e9-4e73-9ee5-b0fcfd46ae06\">\n",
              "    <div class=\"colab-df-container\">\n",
              "      <div>\n",
              "<style scoped>\n",
              "    .dataframe tbody tr th:only-of-type {\n",
              "        vertical-align: middle;\n",
              "    }\n",
              "\n",
              "    .dataframe tbody tr th {\n",
              "        vertical-align: top;\n",
              "    }\n",
              "\n",
              "    .dataframe thead th {\n",
              "        text-align: right;\n",
              "    }\n",
              "</style>\n",
              "<table border=\"1\" class=\"dataframe\">\n",
              "  <thead>\n",
              "    <tr style=\"text-align: right;\">\n",
              "      <th></th>\n",
              "      <th>Sale Date</th>\n",
              "      <th>Imprint Name</th>\n",
              "      <th>ISBN</th>\n",
              "      <th>Product Type</th>\n",
              "      <th>Extended Price %</th>\n",
              "      <th>List Price</th>\n",
              "      <th>Total List Price</th>\n",
              "      <th>Extended Price Per Unit</th>\n",
              "      <th>Total Extended Price</th>\n",
              "      <th>Unit Fees</th>\n",
              "      <th>...</th>\n",
              "      <th>Unnamed: 1003</th>\n",
              "      <th>Unnamed: 1004</th>\n",
              "      <th>Unnamed: 1005</th>\n",
              "      <th>Unnamed: 1006</th>\n",
              "      <th>Unnamed: 1007</th>\n",
              "      <th>Unnamed: 1008</th>\n",
              "      <th>Unnamed: 1009</th>\n",
              "      <th>Unnamed: 1010</th>\n",
              "      <th>Unnamed: 1011</th>\n",
              "      <th>Unnamed: 1012</th>\n",
              "    </tr>\n",
              "  </thead>\n",
              "  <tbody>\n",
              "    <tr>\n",
              "      <th>0</th>\n",
              "      <td>2022-12-02</td>\n",
              "      <td>University of Chicago Press</td>\n",
              "      <td>226180939.0</td>\n",
              "      <td>Paperback</td>\n",
              "      <td>53.0%</td>\n",
              "      <td>17.00</td>\n",
              "      <td>17.00</td>\n",
              "      <td>9.010</td>\n",
              "      <td>9.010</td>\n",
              "      <td>3.44</td>\n",
              "      <td>...</td>\n",
              "      <td>NaN</td>\n",
              "      <td>NaN</td>\n",
              "      <td>NaN</td>\n",
              "      <td>NaN</td>\n",
              "      <td>NaN</td>\n",
              "      <td>NaN</td>\n",
              "      <td>NaN</td>\n",
              "      <td>NaN</td>\n",
              "      <td>NaN</td>\n",
              "      <td>NaN</td>\n",
              "    </tr>\n",
              "    <tr>\n",
              "      <th>1</th>\n",
              "      <td>2022-12-03</td>\n",
              "      <td>Signature Books</td>\n",
              "      <td>560854579.0</td>\n",
              "      <td>Paperback</td>\n",
              "      <td>52.0%</td>\n",
              "      <td>9.95</td>\n",
              "      <td>9.95</td>\n",
              "      <td>5.174</td>\n",
              "      <td>5.174</td>\n",
              "      <td>2.29</td>\n",
              "      <td>...</td>\n",
              "      <td>NaN</td>\n",
              "      <td>NaN</td>\n",
              "      <td>NaN</td>\n",
              "      <td>NaN</td>\n",
              "      <td>NaN</td>\n",
              "      <td>NaN</td>\n",
              "      <td>NaN</td>\n",
              "      <td>NaN</td>\n",
              "      <td>NaN</td>\n",
              "      <td>NaN</td>\n",
              "    </tr>\n",
              "    <tr>\n",
              "      <th>2</th>\n",
              "      <td>2022-12-22</td>\n",
              "      <td>University of Chicago Press</td>\n",
              "      <td>226425924.0</td>\n",
              "      <td>Paperback</td>\n",
              "      <td>80.0%</td>\n",
              "      <td>34.00</td>\n",
              "      <td>102.00</td>\n",
              "      <td>27.200</td>\n",
              "      <td>81.600</td>\n",
              "      <td>5.12</td>\n",
              "      <td>...</td>\n",
              "      <td>NaN</td>\n",
              "      <td>NaN</td>\n",
              "      <td>NaN</td>\n",
              "      <td>NaN</td>\n",
              "      <td>NaN</td>\n",
              "      <td>NaN</td>\n",
              "      <td>NaN</td>\n",
              "      <td>NaN</td>\n",
              "      <td>NaN</td>\n",
              "      <td>NaN</td>\n",
              "    </tr>\n",
              "    <tr>\n",
              "      <th>3</th>\n",
              "      <td>2022-12-09</td>\n",
              "      <td>University of Chicago Press</td>\n",
              "      <td>226740065.0</td>\n",
              "      <td>Paperback</td>\n",
              "      <td>80.0%</td>\n",
              "      <td>37.00</td>\n",
              "      <td>37.00</td>\n",
              "      <td>29.600</td>\n",
              "      <td>29.600</td>\n",
              "      <td>3.20</td>\n",
              "      <td>...</td>\n",
              "      <td>NaN</td>\n",
              "      <td>NaN</td>\n",
              "      <td>NaN</td>\n",
              "      <td>NaN</td>\n",
              "      <td>NaN</td>\n",
              "      <td>NaN</td>\n",
              "      <td>NaN</td>\n",
              "      <td>NaN</td>\n",
              "      <td>NaN</td>\n",
              "      <td>NaN</td>\n",
              "    </tr>\n",
              "    <tr>\n",
              "      <th>4</th>\n",
              "      <td>2022-12-10</td>\n",
              "      <td>University of Chicago Press</td>\n",
              "      <td>226672984.0</td>\n",
              "      <td>Paperback</td>\n",
              "      <td>59.0%</td>\n",
              "      <td>21.00</td>\n",
              "      <td>21.00</td>\n",
              "      <td>12.390</td>\n",
              "      <td>12.390</td>\n",
              "      <td>2.39</td>\n",
              "      <td>...</td>\n",
              "      <td>NaN</td>\n",
              "      <td>NaN</td>\n",
              "      <td>NaN</td>\n",
              "      <td>NaN</td>\n",
              "      <td>NaN</td>\n",
              "      <td>NaN</td>\n",
              "      <td>NaN</td>\n",
              "      <td>NaN</td>\n",
              "      <td>NaN</td>\n",
              "      <td>NaN</td>\n",
              "    </tr>\n",
              "  </tbody>\n",
              "</table>\n",
              "<p>5 rows × 1013 columns</p>\n",
              "</div>\n",
              "      <button class=\"colab-df-convert\" onclick=\"convertToInteractive('df-bbb24d1c-25e9-4e73-9ee5-b0fcfd46ae06')\"\n",
              "              title=\"Convert this dataframe to an interactive table.\"\n",
              "              style=\"display:none;\">\n",
              "        \n",
              "  <svg xmlns=\"http://www.w3.org/2000/svg\" height=\"24px\"viewBox=\"0 0 24 24\"\n",
              "       width=\"24px\">\n",
              "    <path d=\"M0 0h24v24H0V0z\" fill=\"none\"/>\n",
              "    <path d=\"M18.56 5.44l.94 2.06.94-2.06 2.06-.94-2.06-.94-.94-2.06-.94 2.06-2.06.94zm-11 1L8.5 8.5l.94-2.06 2.06-.94-2.06-.94L8.5 2.5l-.94 2.06-2.06.94zm10 10l.94 2.06.94-2.06 2.06-.94-2.06-.94-.94-2.06-.94 2.06-2.06.94z\"/><path d=\"M17.41 7.96l-1.37-1.37c-.4-.4-.92-.59-1.43-.59-.52 0-1.04.2-1.43.59L10.3 9.45l-7.72 7.72c-.78.78-.78 2.05 0 2.83L4 21.41c.39.39.9.59 1.41.59.51 0 1.02-.2 1.41-.59l7.78-7.78 2.81-2.81c.8-.78.8-2.07 0-2.86zM5.41 20L4 18.59l7.72-7.72 1.47 1.35L5.41 20z\"/>\n",
              "  </svg>\n",
              "      </button>\n",
              "      \n",
              "  <style>\n",
              "    .colab-df-container {\n",
              "      display:flex;\n",
              "      flex-wrap:wrap;\n",
              "      gap: 12px;\n",
              "    }\n",
              "\n",
              "    .colab-df-convert {\n",
              "      background-color: #E8F0FE;\n",
              "      border: none;\n",
              "      border-radius: 50%;\n",
              "      cursor: pointer;\n",
              "      display: none;\n",
              "      fill: #1967D2;\n",
              "      height: 32px;\n",
              "      padding: 0 0 0 0;\n",
              "      width: 32px;\n",
              "    }\n",
              "\n",
              "    .colab-df-convert:hover {\n",
              "      background-color: #E2EBFA;\n",
              "      box-shadow: 0px 1px 2px rgba(60, 64, 67, 0.3), 0px 1px 3px 1px rgba(60, 64, 67, 0.15);\n",
              "      fill: #174EA6;\n",
              "    }\n",
              "\n",
              "    [theme=dark] .colab-df-convert {\n",
              "      background-color: #3B4455;\n",
              "      fill: #D2E3FC;\n",
              "    }\n",
              "\n",
              "    [theme=dark] .colab-df-convert:hover {\n",
              "      background-color: #434B5C;\n",
              "      box-shadow: 0px 1px 3px 1px rgba(0, 0, 0, 0.15);\n",
              "      filter: drop-shadow(0px 1px 2px rgba(0, 0, 0, 0.3));\n",
              "      fill: #FFFFFF;\n",
              "    }\n",
              "  </style>\n",
              "\n",
              "      <script>\n",
              "        const buttonEl =\n",
              "          document.querySelector('#df-bbb24d1c-25e9-4e73-9ee5-b0fcfd46ae06 button.colab-df-convert');\n",
              "        buttonEl.style.display =\n",
              "          google.colab.kernel.accessAllowed ? 'block' : 'none';\n",
              "\n",
              "        async function convertToInteractive(key) {\n",
              "          const element = document.querySelector('#df-bbb24d1c-25e9-4e73-9ee5-b0fcfd46ae06');\n",
              "          const dataTable =\n",
              "            await google.colab.kernel.invokeFunction('convertToInteractive',\n",
              "                                                     [key], {});\n",
              "          if (!dataTable) return;\n",
              "\n",
              "          const docLinkHtml = 'Like what you see? Visit the ' +\n",
              "            '<a target=\"_blank\" href=https://colab.research.google.com/notebooks/data_table.ipynb>data table notebook</a>'\n",
              "            + ' to learn more about interactive tables.';\n",
              "          element.innerHTML = '';\n",
              "          dataTable['output_type'] = 'display_data';\n",
              "          await google.colab.output.renderOutput(dataTable, element);\n",
              "          const docLink = document.createElement('div');\n",
              "          docLink.innerHTML = docLinkHtml;\n",
              "          element.appendChild(docLink);\n",
              "        }\n",
              "      </script>\n",
              "    </div>\n",
              "  </div>\n",
              "  "
            ]
          },
          "metadata": {},
          "execution_count": 20
        }
      ]
    },
    {
      "cell_type": "code",
      "source": [
        "kep.shape"
      ],
      "metadata": {
        "colab": {
          "base_uri": "https://localhost:8080/"
        },
        "id": "ABIT95ZWDSmK",
        "outputId": "c45182e5-f59d-4114-96b0-51293366328e"
      },
      "execution_count": null,
      "outputs": [
        {
          "output_type": "execute_result",
          "data": {
            "text/plain": [
              "(11141, 1013)"
            ]
          },
          "metadata": {},
          "execution_count": 21
        }
      ]
    },
    {
      "cell_type": "code",
      "source": [
        "kep.dtypes"
      ],
      "metadata": {
        "colab": {
          "base_uri": "https://localhost:8080/"
        },
        "id": "ljtTY_niDV1L",
        "outputId": "1736c19c-465f-4912-bed3-dad544ebdf0c"
      },
      "execution_count": null,
      "outputs": [
        {
          "output_type": "execute_result",
          "data": {
            "text/plain": [
              "Sale Date            object\n",
              "Imprint Name         object\n",
              "ISBN                float64\n",
              "Product Type         object\n",
              "Extended Price %     object\n",
              "                     ...   \n",
              "Unnamed: 1008       float64\n",
              "Unnamed: 1009       float64\n",
              "Unnamed: 1010       float64\n",
              "Unnamed: 1011       float64\n",
              "Unnamed: 1012       float64\n",
              "Length: 1013, dtype: object"
            ]
          },
          "metadata": {},
          "execution_count": 22
        }
      ]
    },
    {
      "cell_type": "code",
      "source": [
        "cdc = pd.read_csv('/content/drive/My Drive/Colab Datasets/group/KEP_US_CDC_2212_Python_Project.csv')\n",
        "#cdc = pd.read_csv('/content/drive/My Drive/Copy_KEP_US_CDC_2212_Python_Project.csv')\n",
        "cdc = pd.DataFrame(cdc)\n",
        "cdc.head()"
      ],
      "metadata": {
        "colab": {
          "base_uri": "https://localhost:8080/",
          "height": 652
        },
        "id": "NRLgG1AtDkHF",
        "outputId": "b1262b66-224b-480e-e7eb-f777824cc90f"
      },
      "execution_count": null,
      "outputs": [
        {
          "output_type": "execute_result",
          "data": {
            "text/plain": [
              "                       Division Name       ISBN Format Date Posted  \\\n",
              "0  University of Chicago Press Books  226329598      P  01/27/2023   \n",
              "1  University of Chicago Press Books  226329598      P  01/27/2023   \n",
              "2  University of Chicago Press Books  226329598      P  01/27/2023   \n",
              "3  University of Chicago Press Books  226329598      P  01/27/2023   \n",
              "4  University of Chicago Press Books  226470009      P  01/27/2023   \n",
              "\n",
              "   Period Posted    PO No.  Invoice No.  Fiscal YYYYMM  Unit Price  Disc Pct  \\\n",
              "0            123  CDC 1222     11738536         202307        37.0      20.0   \n",
              "1            123  CDC 1222     11738536         202307        37.0      20.0   \n",
              "2            123  CDC 1222     11738536         202307        37.0      20.0   \n",
              "3            123  CDC 1222     11738536         202307        37.0      20.0   \n",
              "4            123  CDC 1222     11738536         202307        34.0      41.0   \n",
              "\n",
              "   Orig List Price  Sales Units  Sales Amt  Return Units  Return Amt  \\\n",
              "0             37.0            1      29.60             0         0.0   \n",
              "1             37.0            1      29.60             0         0.0   \n",
              "2             37.0            1      29.60             0         0.0   \n",
              "3             37.0            1      29.60             0         0.0   \n",
              "4             34.0            1      20.06             0         0.0   \n",
              "\n",
              "   Net Units  Net Amt  Unit Cost  Extended Cost  \n",
              "0          1    29.60       3.62           3.62  \n",
              "1          1    29.60       3.62           3.62  \n",
              "2          1    29.60       3.62           3.62  \n",
              "3          1    29.60       3.62           3.62  \n",
              "4          1    20.06       2.69           2.69  "
            ],
            "text/html": [
              "\n",
              "  <div id=\"df-5039eef6-233a-4e08-b881-d7a5da318e6a\">\n",
              "    <div class=\"colab-df-container\">\n",
              "      <div>\n",
              "<style scoped>\n",
              "    .dataframe tbody tr th:only-of-type {\n",
              "        vertical-align: middle;\n",
              "    }\n",
              "\n",
              "    .dataframe tbody tr th {\n",
              "        vertical-align: top;\n",
              "    }\n",
              "\n",
              "    .dataframe thead th {\n",
              "        text-align: right;\n",
              "    }\n",
              "</style>\n",
              "<table border=\"1\" class=\"dataframe\">\n",
              "  <thead>\n",
              "    <tr style=\"text-align: right;\">\n",
              "      <th></th>\n",
              "      <th>Division Name</th>\n",
              "      <th>ISBN</th>\n",
              "      <th>Format</th>\n",
              "      <th>Date Posted</th>\n",
              "      <th>Period Posted</th>\n",
              "      <th>PO No.</th>\n",
              "      <th>Invoice No.</th>\n",
              "      <th>Fiscal YYYYMM</th>\n",
              "      <th>Unit Price</th>\n",
              "      <th>Disc Pct</th>\n",
              "      <th>Orig List Price</th>\n",
              "      <th>Sales Units</th>\n",
              "      <th>Sales Amt</th>\n",
              "      <th>Return Units</th>\n",
              "      <th>Return Amt</th>\n",
              "      <th>Net Units</th>\n",
              "      <th>Net Amt</th>\n",
              "      <th>Unit Cost</th>\n",
              "      <th>Extended Cost</th>\n",
              "    </tr>\n",
              "  </thead>\n",
              "  <tbody>\n",
              "    <tr>\n",
              "      <th>0</th>\n",
              "      <td>University of Chicago Press Books</td>\n",
              "      <td>226329598</td>\n",
              "      <td>P</td>\n",
              "      <td>01/27/2023</td>\n",
              "      <td>123</td>\n",
              "      <td>CDC 1222</td>\n",
              "      <td>11738536</td>\n",
              "      <td>202307</td>\n",
              "      <td>37.0</td>\n",
              "      <td>20.0</td>\n",
              "      <td>37.0</td>\n",
              "      <td>1</td>\n",
              "      <td>29.60</td>\n",
              "      <td>0</td>\n",
              "      <td>0.0</td>\n",
              "      <td>1</td>\n",
              "      <td>29.60</td>\n",
              "      <td>3.62</td>\n",
              "      <td>3.62</td>\n",
              "    </tr>\n",
              "    <tr>\n",
              "      <th>1</th>\n",
              "      <td>University of Chicago Press Books</td>\n",
              "      <td>226329598</td>\n",
              "      <td>P</td>\n",
              "      <td>01/27/2023</td>\n",
              "      <td>123</td>\n",
              "      <td>CDC 1222</td>\n",
              "      <td>11738536</td>\n",
              "      <td>202307</td>\n",
              "      <td>37.0</td>\n",
              "      <td>20.0</td>\n",
              "      <td>37.0</td>\n",
              "      <td>1</td>\n",
              "      <td>29.60</td>\n",
              "      <td>0</td>\n",
              "      <td>0.0</td>\n",
              "      <td>1</td>\n",
              "      <td>29.60</td>\n",
              "      <td>3.62</td>\n",
              "      <td>3.62</td>\n",
              "    </tr>\n",
              "    <tr>\n",
              "      <th>2</th>\n",
              "      <td>University of Chicago Press Books</td>\n",
              "      <td>226329598</td>\n",
              "      <td>P</td>\n",
              "      <td>01/27/2023</td>\n",
              "      <td>123</td>\n",
              "      <td>CDC 1222</td>\n",
              "      <td>11738536</td>\n",
              "      <td>202307</td>\n",
              "      <td>37.0</td>\n",
              "      <td>20.0</td>\n",
              "      <td>37.0</td>\n",
              "      <td>1</td>\n",
              "      <td>29.60</td>\n",
              "      <td>0</td>\n",
              "      <td>0.0</td>\n",
              "      <td>1</td>\n",
              "      <td>29.60</td>\n",
              "      <td>3.62</td>\n",
              "      <td>3.62</td>\n",
              "    </tr>\n",
              "    <tr>\n",
              "      <th>3</th>\n",
              "      <td>University of Chicago Press Books</td>\n",
              "      <td>226329598</td>\n",
              "      <td>P</td>\n",
              "      <td>01/27/2023</td>\n",
              "      <td>123</td>\n",
              "      <td>CDC 1222</td>\n",
              "      <td>11738536</td>\n",
              "      <td>202307</td>\n",
              "      <td>37.0</td>\n",
              "      <td>20.0</td>\n",
              "      <td>37.0</td>\n",
              "      <td>1</td>\n",
              "      <td>29.60</td>\n",
              "      <td>0</td>\n",
              "      <td>0.0</td>\n",
              "      <td>1</td>\n",
              "      <td>29.60</td>\n",
              "      <td>3.62</td>\n",
              "      <td>3.62</td>\n",
              "    </tr>\n",
              "    <tr>\n",
              "      <th>4</th>\n",
              "      <td>University of Chicago Press Books</td>\n",
              "      <td>226470009</td>\n",
              "      <td>P</td>\n",
              "      <td>01/27/2023</td>\n",
              "      <td>123</td>\n",
              "      <td>CDC 1222</td>\n",
              "      <td>11738536</td>\n",
              "      <td>202307</td>\n",
              "      <td>34.0</td>\n",
              "      <td>41.0</td>\n",
              "      <td>34.0</td>\n",
              "      <td>1</td>\n",
              "      <td>20.06</td>\n",
              "      <td>0</td>\n",
              "      <td>0.0</td>\n",
              "      <td>1</td>\n",
              "      <td>20.06</td>\n",
              "      <td>2.69</td>\n",
              "      <td>2.69</td>\n",
              "    </tr>\n",
              "  </tbody>\n",
              "</table>\n",
              "</div>\n",
              "      <button class=\"colab-df-convert\" onclick=\"convertToInteractive('df-5039eef6-233a-4e08-b881-d7a5da318e6a')\"\n",
              "              title=\"Convert this dataframe to an interactive table.\"\n",
              "              style=\"display:none;\">\n",
              "        \n",
              "  <svg xmlns=\"http://www.w3.org/2000/svg\" height=\"24px\"viewBox=\"0 0 24 24\"\n",
              "       width=\"24px\">\n",
              "    <path d=\"M0 0h24v24H0V0z\" fill=\"none\"/>\n",
              "    <path d=\"M18.56 5.44l.94 2.06.94-2.06 2.06-.94-2.06-.94-.94-2.06-.94 2.06-2.06.94zm-11 1L8.5 8.5l.94-2.06 2.06-.94-2.06-.94L8.5 2.5l-.94 2.06-2.06.94zm10 10l.94 2.06.94-2.06 2.06-.94-2.06-.94-.94-2.06-.94 2.06-2.06.94z\"/><path d=\"M17.41 7.96l-1.37-1.37c-.4-.4-.92-.59-1.43-.59-.52 0-1.04.2-1.43.59L10.3 9.45l-7.72 7.72c-.78.78-.78 2.05 0 2.83L4 21.41c.39.39.9.59 1.41.59.51 0 1.02-.2 1.41-.59l7.78-7.78 2.81-2.81c.8-.78.8-2.07 0-2.86zM5.41 20L4 18.59l7.72-7.72 1.47 1.35L5.41 20z\"/>\n",
              "  </svg>\n",
              "      </button>\n",
              "      \n",
              "  <style>\n",
              "    .colab-df-container {\n",
              "      display:flex;\n",
              "      flex-wrap:wrap;\n",
              "      gap: 12px;\n",
              "    }\n",
              "\n",
              "    .colab-df-convert {\n",
              "      background-color: #E8F0FE;\n",
              "      border: none;\n",
              "      border-radius: 50%;\n",
              "      cursor: pointer;\n",
              "      display: none;\n",
              "      fill: #1967D2;\n",
              "      height: 32px;\n",
              "      padding: 0 0 0 0;\n",
              "      width: 32px;\n",
              "    }\n",
              "\n",
              "    .colab-df-convert:hover {\n",
              "      background-color: #E2EBFA;\n",
              "      box-shadow: 0px 1px 2px rgba(60, 64, 67, 0.3), 0px 1px 3px 1px rgba(60, 64, 67, 0.15);\n",
              "      fill: #174EA6;\n",
              "    }\n",
              "\n",
              "    [theme=dark] .colab-df-convert {\n",
              "      background-color: #3B4455;\n",
              "      fill: #D2E3FC;\n",
              "    }\n",
              "\n",
              "    [theme=dark] .colab-df-convert:hover {\n",
              "      background-color: #434B5C;\n",
              "      box-shadow: 0px 1px 3px 1px rgba(0, 0, 0, 0.15);\n",
              "      filter: drop-shadow(0px 1px 2px rgba(0, 0, 0, 0.3));\n",
              "      fill: #FFFFFF;\n",
              "    }\n",
              "  </style>\n",
              "\n",
              "      <script>\n",
              "        const buttonEl =\n",
              "          document.querySelector('#df-5039eef6-233a-4e08-b881-d7a5da318e6a button.colab-df-convert');\n",
              "        buttonEl.style.display =\n",
              "          google.colab.kernel.accessAllowed ? 'block' : 'none';\n",
              "\n",
              "        async function convertToInteractive(key) {\n",
              "          const element = document.querySelector('#df-5039eef6-233a-4e08-b881-d7a5da318e6a');\n",
              "          const dataTable =\n",
              "            await google.colab.kernel.invokeFunction('convertToInteractive',\n",
              "                                                     [key], {});\n",
              "          if (!dataTable) return;\n",
              "\n",
              "          const docLinkHtml = 'Like what you see? Visit the ' +\n",
              "            '<a target=\"_blank\" href=https://colab.research.google.com/notebooks/data_table.ipynb>data table notebook</a>'\n",
              "            + ' to learn more about interactive tables.';\n",
              "          element.innerHTML = '';\n",
              "          dataTable['output_type'] = 'display_data';\n",
              "          await google.colab.output.renderOutput(dataTable, element);\n",
              "          const docLink = document.createElement('div');\n",
              "          docLink.innerHTML = docLinkHtml;\n",
              "          element.appendChild(docLink);\n",
              "        }\n",
              "      </script>\n",
              "    </div>\n",
              "  </div>\n",
              "  "
            ]
          },
          "metadata": {},
          "execution_count": 23
        }
      ]
    },
    {
      "cell_type": "code",
      "source": [
        "cdc.shape"
      ],
      "metadata": {
        "colab": {
          "base_uri": "https://localhost:8080/"
        },
        "id": "f3xSOCH-DzVh",
        "outputId": "a7376c72-d926-4955-8d36-010e7bfd1d71"
      },
      "execution_count": null,
      "outputs": [
        {
          "output_type": "execute_result",
          "data": {
            "text/plain": [
              "(11140, 19)"
            ]
          },
          "metadata": {},
          "execution_count": 24
        }
      ]
    },
    {
      "cell_type": "code",
      "source": [
        "cdc.dtypes"
      ],
      "metadata": {
        "colab": {
          "base_uri": "https://localhost:8080/"
        },
        "id": "MFLjY51dD1oX",
        "outputId": "2efec8f9-44ac-4c0a-cfd7-6da4c08d311e"
      },
      "execution_count": null,
      "outputs": [
        {
          "output_type": "execute_result",
          "data": {
            "text/plain": [
              "Division Name       object\n",
              "ISBN                 int64\n",
              "Format              object\n",
              "Date Posted         object\n",
              "Period Posted        int64\n",
              "PO No.              object\n",
              "Invoice No.          int64\n",
              "Fiscal YYYYMM        int64\n",
              "Unit Price         float64\n",
              "Disc Pct           float64\n",
              "Orig List Price    float64\n",
              "Sales Units          int64\n",
              "Sales Amt          float64\n",
              "Return Units         int64\n",
              "Return Amt         float64\n",
              "Net Units            int64\n",
              "Net Amt            float64\n",
              "Unit Cost          float64\n",
              "Extended Cost      float64\n",
              "dtype: object"
            ]
          },
          "metadata": {},
          "execution_count": 25
        }
      ]
    },
    {
      "cell_type": "markdown",
      "source": [
        "Crime and ride datasets are publicly available on the Chicago data portal, crime data is a subset of a large crime dataset from 2001 to present. Sensitive information are not presented in these datasets. Book sales datasets are from trusted source and access was granted."
      ],
      "metadata": {
        "id": "JIqaygDgoFYM"
      }
    },
    {
      "cell_type": "markdown",
      "source": [
        "#### Explore the data \n",
        "\n"
      ],
      "metadata": {
        "id": "-TCjk9izDXjo"
      }
    },
    {
      "cell_type": "markdown",
      "source": [
        "1. Create a copy of the data for exploration"
      ],
      "metadata": {
        "id": "cuvf4_6xE0Y_"
      }
    },
    {
      "cell_type": "code",
      "source": [
        "ride1 = ride.copy()\n",
        "crime1 = crime.copy()\n",
        "kep1 = kep.copy()\n",
        "cdc1 = cdc.copy()"
      ],
      "metadata": {
        "id": "zVxNIMUWDXAV"
      },
      "execution_count": null,
      "outputs": []
    },
    {
      "cell_type": "code",
      "source": [
        "ride1.dtypes"
      ],
      "metadata": {
        "colab": {
          "base_uri": "https://localhost:8080/"
        },
        "id": "ZaioKnrJF477",
        "outputId": "2a222ac0-0515-45f0-b97b-e0a5c2c1d001"
      },
      "execution_count": null,
      "outputs": [
        {
          "output_type": "execute_result",
          "data": {
            "text/plain": [
              "MONTH_REPORTED            object\n",
              "STATE                     object\n",
              "MAKE                      object\n",
              "MODEL                     object\n",
              "COLOR                     object\n",
              "YEAR                     float64\n",
              "LAST_INSPECTION_MONTH     object\n",
              "NUMBER_OF_TRIPS          float64\n",
              "MULTIPLE_TNPS               bool\n",
              "dtype: object"
            ]
          },
          "metadata": {},
          "execution_count": 27
        }
      ]
    },
    {
      "cell_type": "code",
      "source": [
        "missing_values = ride1.isnull().mean()*100\n",
        "print(missing_values)"
      ],
      "metadata": {
        "colab": {
          "base_uri": "https://localhost:8080/"
        },
        "id": "cnT0uLntF9DM",
        "outputId": "613c46c4-7663-4c59-c1ca-8c371a8f46a1"
      },
      "execution_count": null,
      "outputs": [
        {
          "output_type": "stream",
          "name": "stdout",
          "text": [
            "MONTH_REPORTED            0.000000\n",
            "STATE                     0.162143\n",
            "MAKE                      0.057452\n",
            "MODEL                     0.057657\n",
            "COLOR                     9.995187\n",
            "YEAR                      0.057406\n",
            "LAST_INSPECTION_MONTH    33.827164\n",
            "NUMBER_OF_TRIPS           0.172972\n",
            "MULTIPLE_TNPS             0.000000\n",
            "dtype: float64\n"
          ]
        }
      ]
    },
    {
      "cell_type": "code",
      "source": [
        "ride1.describe()"
      ],
      "metadata": {
        "colab": {
          "base_uri": "https://localhost:8080/",
          "height": 300
        },
        "id": "CY272f-FG3Eu",
        "outputId": "27e0fd40-b3d3-4b42-e52a-a59f36ddbb16"
      },
      "execution_count": null,
      "outputs": [
        {
          "output_type": "execute_result",
          "data": {
            "text/plain": [
              "               YEAR  NUMBER_OF_TRIPS\n",
              "count  8.758837e+06     8.748709e+06\n",
              "mean   2.012905e+03     6.619321e+01\n",
              "std    1.028822e+01     1.155470e+02\n",
              "min    0.000000e+00     0.000000e+00\n",
              "25%    2.010000e+03     0.000000e+00\n",
              "50%    2.014000e+03     8.000000e+00\n",
              "75%    2.016000e+03     8.600000e+01\n",
              "max    2.017700e+04     9.990000e+02"
            ],
            "text/html": [
              "\n",
              "  <div id=\"df-872265b8-f07a-4af6-b4b1-be82cf4160a8\">\n",
              "    <div class=\"colab-df-container\">\n",
              "      <div>\n",
              "<style scoped>\n",
              "    .dataframe tbody tr th:only-of-type {\n",
              "        vertical-align: middle;\n",
              "    }\n",
              "\n",
              "    .dataframe tbody tr th {\n",
              "        vertical-align: top;\n",
              "    }\n",
              "\n",
              "    .dataframe thead th {\n",
              "        text-align: right;\n",
              "    }\n",
              "</style>\n",
              "<table border=\"1\" class=\"dataframe\">\n",
              "  <thead>\n",
              "    <tr style=\"text-align: right;\">\n",
              "      <th></th>\n",
              "      <th>YEAR</th>\n",
              "      <th>NUMBER_OF_TRIPS</th>\n",
              "    </tr>\n",
              "  </thead>\n",
              "  <tbody>\n",
              "    <tr>\n",
              "      <th>count</th>\n",
              "      <td>8.758837e+06</td>\n",
              "      <td>8.748709e+06</td>\n",
              "    </tr>\n",
              "    <tr>\n",
              "      <th>mean</th>\n",
              "      <td>2.012905e+03</td>\n",
              "      <td>6.619321e+01</td>\n",
              "    </tr>\n",
              "    <tr>\n",
              "      <th>std</th>\n",
              "      <td>1.028822e+01</td>\n",
              "      <td>1.155470e+02</td>\n",
              "    </tr>\n",
              "    <tr>\n",
              "      <th>min</th>\n",
              "      <td>0.000000e+00</td>\n",
              "      <td>0.000000e+00</td>\n",
              "    </tr>\n",
              "    <tr>\n",
              "      <th>25%</th>\n",
              "      <td>2.010000e+03</td>\n",
              "      <td>0.000000e+00</td>\n",
              "    </tr>\n",
              "    <tr>\n",
              "      <th>50%</th>\n",
              "      <td>2.014000e+03</td>\n",
              "      <td>8.000000e+00</td>\n",
              "    </tr>\n",
              "    <tr>\n",
              "      <th>75%</th>\n",
              "      <td>2.016000e+03</td>\n",
              "      <td>8.600000e+01</td>\n",
              "    </tr>\n",
              "    <tr>\n",
              "      <th>max</th>\n",
              "      <td>2.017700e+04</td>\n",
              "      <td>9.990000e+02</td>\n",
              "    </tr>\n",
              "  </tbody>\n",
              "</table>\n",
              "</div>\n",
              "      <button class=\"colab-df-convert\" onclick=\"convertToInteractive('df-872265b8-f07a-4af6-b4b1-be82cf4160a8')\"\n",
              "              title=\"Convert this dataframe to an interactive table.\"\n",
              "              style=\"display:none;\">\n",
              "        \n",
              "  <svg xmlns=\"http://www.w3.org/2000/svg\" height=\"24px\"viewBox=\"0 0 24 24\"\n",
              "       width=\"24px\">\n",
              "    <path d=\"M0 0h24v24H0V0z\" fill=\"none\"/>\n",
              "    <path d=\"M18.56 5.44l.94 2.06.94-2.06 2.06-.94-2.06-.94-.94-2.06-.94 2.06-2.06.94zm-11 1L8.5 8.5l.94-2.06 2.06-.94-2.06-.94L8.5 2.5l-.94 2.06-2.06.94zm10 10l.94 2.06.94-2.06 2.06-.94-2.06-.94-.94-2.06-.94 2.06-2.06.94z\"/><path d=\"M17.41 7.96l-1.37-1.37c-.4-.4-.92-.59-1.43-.59-.52 0-1.04.2-1.43.59L10.3 9.45l-7.72 7.72c-.78.78-.78 2.05 0 2.83L4 21.41c.39.39.9.59 1.41.59.51 0 1.02-.2 1.41-.59l7.78-7.78 2.81-2.81c.8-.78.8-2.07 0-2.86zM5.41 20L4 18.59l7.72-7.72 1.47 1.35L5.41 20z\"/>\n",
              "  </svg>\n",
              "      </button>\n",
              "      \n",
              "  <style>\n",
              "    .colab-df-container {\n",
              "      display:flex;\n",
              "      flex-wrap:wrap;\n",
              "      gap: 12px;\n",
              "    }\n",
              "\n",
              "    .colab-df-convert {\n",
              "      background-color: #E8F0FE;\n",
              "      border: none;\n",
              "      border-radius: 50%;\n",
              "      cursor: pointer;\n",
              "      display: none;\n",
              "      fill: #1967D2;\n",
              "      height: 32px;\n",
              "      padding: 0 0 0 0;\n",
              "      width: 32px;\n",
              "    }\n",
              "\n",
              "    .colab-df-convert:hover {\n",
              "      background-color: #E2EBFA;\n",
              "      box-shadow: 0px 1px 2px rgba(60, 64, 67, 0.3), 0px 1px 3px 1px rgba(60, 64, 67, 0.15);\n",
              "      fill: #174EA6;\n",
              "    }\n",
              "\n",
              "    [theme=dark] .colab-df-convert {\n",
              "      background-color: #3B4455;\n",
              "      fill: #D2E3FC;\n",
              "    }\n",
              "\n",
              "    [theme=dark] .colab-df-convert:hover {\n",
              "      background-color: #434B5C;\n",
              "      box-shadow: 0px 1px 3px 1px rgba(0, 0, 0, 0.15);\n",
              "      filter: drop-shadow(0px 1px 2px rgba(0, 0, 0, 0.3));\n",
              "      fill: #FFFFFF;\n",
              "    }\n",
              "  </style>\n",
              "\n",
              "      <script>\n",
              "        const buttonEl =\n",
              "          document.querySelector('#df-872265b8-f07a-4af6-b4b1-be82cf4160a8 button.colab-df-convert');\n",
              "        buttonEl.style.display =\n",
              "          google.colab.kernel.accessAllowed ? 'block' : 'none';\n",
              "\n",
              "        async function convertToInteractive(key) {\n",
              "          const element = document.querySelector('#df-872265b8-f07a-4af6-b4b1-be82cf4160a8');\n",
              "          const dataTable =\n",
              "            await google.colab.kernel.invokeFunction('convertToInteractive',\n",
              "                                                     [key], {});\n",
              "          if (!dataTable) return;\n",
              "\n",
              "          const docLinkHtml = 'Like what you see? Visit the ' +\n",
              "            '<a target=\"_blank\" href=https://colab.research.google.com/notebooks/data_table.ipynb>data table notebook</a>'\n",
              "            + ' to learn more about interactive tables.';\n",
              "          element.innerHTML = '';\n",
              "          dataTable['output_type'] = 'display_data';\n",
              "          await google.colab.output.renderOutput(dataTable, element);\n",
              "          const docLink = document.createElement('div');\n",
              "          docLink.innerHTML = docLinkHtml;\n",
              "          element.appendChild(docLink);\n",
              "        }\n",
              "      </script>\n",
              "    </div>\n",
              "  </div>\n",
              "  "
            ]
          },
          "metadata": {},
          "execution_count": 29
        }
      ]
    },
    {
      "cell_type": "code",
      "source": [
        "ride1['MONTH_REPORTED'] = pd.to_datetime(ride1['MONTH_REPORTED'], format = \"%Y-%m\")\n",
        "ride1['Month'] = ride1['MONTH_REPORTED'].dt.month"
      ],
      "metadata": {
        "id": "T79YzIsATEFZ"
      },
      "execution_count": null,
      "outputs": []
    },
    {
      "cell_type": "code",
      "source": [
        "ride1.boxplot(column=['YEAR', 'NUMBER_OF_TRIPS'])\n",
        "plt.show()"
      ],
      "metadata": {
        "colab": {
          "base_uri": "https://localhost:8080/",
          "height": 321
        },
        "id": "l3MOLO4wHEPu",
        "outputId": "7faee943-8390-48dc-9166-77e03ae46d22"
      },
      "execution_count": null,
      "outputs": [
        {
          "output_type": "stream",
          "name": "stderr",
          "text": [
            "/usr/local/lib/python3.8/dist-packages/matplotlib/cbook/__init__.py:1376: VisibleDeprecationWarning: Creating an ndarray from ragged nested sequences (which is a list-or-tuple of lists-or-tuples-or ndarrays with different lengths or shapes) is deprecated. If you meant to do this, you must specify 'dtype=object' when creating the ndarray.\n",
            "  X = np.atleast_1d(X.T if isinstance(X, np.ndarray) else np.asarray(X))\n"
          ]
        },
        {
          "output_type": "display_data",
          "data": {
            "text/plain": [
              "<Figure size 432x288 with 1 Axes>"
            ],
            "image/png": "[encoded data removed]"
          },
          "metadata": {
            "needs_background": "light"
          }
        }
      ]
    },
    {
      "cell_type": "markdown",
      "source": [
        "The boxplot of YEAR suggests that there are outliers in the dataset that are clearly not normal, probably due to the input error. From the output below, we found out that there are two records have wrong input of year, which we will remove the entries. also we will remove the data that have YEAR less than 1000 since it is not possible for car to be made in these years. We found out the oldest car in our dataset is made in 1980."
      ],
      "metadata": {
        "id": "rru8hxk4H9eC"
      }
    },
    {
      "cell_type": "code",
      "source": [
        "ride1[ride1['YEAR'] < 1000]['YEAR'].sort_values(ascending=True)"
      ],
      "metadata": {
        "colab": {
          "base_uri": "https://localhost:8080/"
        },
        "id": "EZEImow5KguS",
        "outputId": "258b2eca-0453-46b8-89fa-93c53137a1c1"
      },
      "execution_count": null,
      "outputs": [
        {
          "output_type": "execute_result",
          "data": {
            "text/plain": [
              "148079       0.0\n",
              "3133882      0.0\n",
              "2994770      0.0\n",
              "2856749      0.0\n",
              "2754971      0.0\n",
              "2687843      0.0\n",
              "2035803      0.0\n",
              "2034066      0.0\n",
              "1816872      0.0\n",
              "1772852      0.0\n",
              "3454065      0.0\n",
              "1403774      0.0\n",
              "1665495      0.0\n",
              "1218608      0.0\n",
              "198164       0.0\n",
              "273069       0.0\n",
              "371981       0.0\n",
              "395084       0.0\n",
              "398145       0.0\n",
              "980821       0.0\n",
              "523835       0.0\n",
              "1005751      0.0\n",
              "1142319      0.0\n",
              "1167776      0.0\n",
              "3898524      0.0\n",
              "1299595     79.0\n",
              "2328884     79.0\n",
              "1810610     79.0\n",
              "1935809     79.0\n",
              "1707401    260.0\n",
              "Name: YEAR, dtype: float64"
            ]
          },
          "metadata": {},
          "execution_count": 32
        }
      ]
    },
    {
      "cell_type": "markdown",
      "source": [
        "Car Model Year Boxplot"
      ],
      "metadata": {
        "id": "MhZS8lW_bgqm"
      }
    },
    {
      "cell_type": "code",
      "source": [
        "ride1 = ride1[(ride1['YEAR'] > 260) & (ride1['YEAR'] <= 2023)]\n",
        "ride1.boxplot(column=['YEAR'])\n",
        "plt.show()"
      ],
      "metadata": {
        "colab": {
          "base_uri": "https://localhost:8080/",
          "height": 265
        },
        "id": "CEwFmoRRJhVX",
        "outputId": "5bdcc225-3084-4382-c3d7-889985e21be7"
      },
      "execution_count": null,
      "outputs": [
        {
          "output_type": "display_data",
          "data": {
            "text/plain": [
              "<Figure size 432x288 with 1 Axes>"
            ],
            "image/png": "[encoded data removed]"
          },
          "metadata": {
            "needs_background": "light"
          }
        }
      ]
    },
    {
      "cell_type": "markdown",
      "source": [
        "Number of Trips Boxplot"
      ],
      "metadata": {
        "id": "tGBEkYP7bkOe"
      }
    },
    {
      "cell_type": "code",
      "source": [
        "trips = ride1['NUMBER_OF_TRIPS']\n",
        "trips.describe()"
      ],
      "metadata": {
        "colab": {
          "base_uri": "https://localhost:8080/"
        },
        "id": "Rt3dJpTZMkm3",
        "outputId": "841fcda2-6b5b-4f25-825b-7fd4505946b4"
      },
      "execution_count": null,
      "outputs": [
        {
          "output_type": "execute_result",
          "data": {
            "text/plain": [
              "count    8.743646e+06\n",
              "mean     6.620969e+01\n",
              "std      1.155681e+02\n",
              "min      0.000000e+00\n",
              "25%      0.000000e+00\n",
              "50%      8.000000e+00\n",
              "75%      8.600000e+01\n",
              "max      9.990000e+02\n",
              "Name: NUMBER_OF_TRIPS, dtype: float64"
            ]
          },
          "metadata": {},
          "execution_count": 34
        }
      ]
    },
    {
      "cell_type": "code",
      "source": [
        "ride1.boxplot(column=['NUMBER_OF_TRIPS'])"
      ],
      "metadata": {
        "colab": {
          "base_uri": "https://localhost:8080/",
          "height": 283
        },
        "id": "B3zgscIQNXaL",
        "outputId": "863f25b0-5409-4faf-ae17-4f6ef1aa4f23"
      },
      "execution_count": null,
      "outputs": [
        {
          "output_type": "execute_result",
          "data": {
            "text/plain": [
              "<matplotlib.axes._subplots.AxesSubplot at 0x7f7b382376a0>"
            ]
          },
          "metadata": {},
          "execution_count": 35
        },
        {
          "output_type": "display_data",
          "data": {
            "text/plain": [
              "<Figure size 432x288 with 1 Axes>"
            ],
            "image/png": "[encoded data removed]"
          },
          "metadata": {
            "needs_background": "light"
          }
        }
      ]
    },
    {
      "cell_type": "code",
      "source": [
        "trips.plot(kind='hist', title='Frequency Density Plot of trips')"
      ],
      "metadata": {
        "colab": {
          "base_uri": "https://localhost:8080/",
          "height": 298
        },
        "id": "2C4KSlWDNoSh",
        "outputId": "e62a12ed-1897-4420-d35e-6b59060c1a35"
      },
      "execution_count": null,
      "outputs": [
        {
          "output_type": "execute_result",
          "data": {
            "text/plain": [
              "<matplotlib.axes._subplots.AxesSubplot at 0x7f7b83736640>"
            ]
          },
          "metadata": {},
          "execution_count": 36
        },
        {
          "output_type": "display_data",
          "data": {
            "text/plain": [
              "<Figure size 432x288 with 1 Axes>"
            ],
            "image/png": "[encoded data removed]"
          },
          "metadata": {
            "needs_background": "light"
          }
        }
      ]
    },
    {
      "cell_type": "markdown",
      "source": [
        "From the boxplot above and histogram above, we found out that the span of number of trips made is very large, with a maximum of 999 trips made. However, about a quarter of the entries have 0 trips made in this data set. since the every entry records the number of trips made in one month, for the entry with 999 trips, we chose not to remove it since it is still possible to make 999 trips within one month."
      ],
      "metadata": {
        "id": "GJsDcA-SN6_b"
      }
    },
    {
      "cell_type": "markdown",
      "source": [
        "#### Correlation between Model year and the number of trips they made"
      ],
      "metadata": {
        "id": "KCdK1wZ3L8jO"
      }
    },
    {
      "cell_type": "code",
      "source": [
        "corr = ride1['YEAR'].corr(ride1['NUMBER_OF_TRIPS'])\n",
        "print('Correlation between car model year and the number of trips they made: ', corr)"
      ],
      "metadata": {
        "colab": {
          "base_uri": "https://localhost:8080/"
        },
        "id": "Ja9sEvY0J6kl",
        "outputId": "175161da-4c46-438c-a02e-d1dec5b66935"
      },
      "execution_count": null,
      "outputs": [
        {
          "output_type": "stream",
          "name": "stdout",
          "text": [
            "Correlation between car model year and the number of trips they made:  0.0906313897237097\n"
          ]
        }
      ]
    },
    {
      "cell_type": "markdown",
      "source": [
        "There is a positive correlation of 0.1 between the model year of the car and the number of trips they made, which is reasonably informative considering there are many outliers in 'NUMBER_OF_TRIPS' that we considered non-removable, which requires further investigation."
      ],
      "metadata": {
        "id": "dztgE8ltMEBr"
      }
    },
    {
      "cell_type": "markdown",
      "source": [
        "#### Check the number of trips made on average by drivers on one platforms and multiple platforms."
      ],
      "metadata": {
        "id": "E7yk7VvvQL9C"
      }
    },
    {
      "cell_type": "code",
      "source": [
        "df_single_tnps = ride1[~ride1['MULTIPLE_TNPS']]\n",
        "df_multiple_tnps = ride1[ride1['MULTIPLE_TNPS']]\n",
        "\n",
        "avg_num_trips_single_tnps = df_single_tnps['NUMBER_OF_TRIPS'].mean()\n",
        "avg_num_trips_multiple_tnps = df_multiple_tnps['NUMBER_OF_TRIPS'].mean()\n",
        "\n",
        "print(f'Drivers driving for a single rideshare service made {round(avg_num_trips_single_tnps, 1)} trips (monthly) on average.')\n",
        "print(f'Drivers driving for multiple rideshare services made {round(avg_num_trips_multiple_tnps, 1)} trips (monthly) on average.')"
      ],
      "metadata": {
        "colab": {
          "base_uri": "https://localhost:8080/"
        },
        "id": "Fjpcwc5PNOqO",
        "outputId": "745f2dea-9511-494b-c5ef-3b59463fe08b"
      },
      "execution_count": null,
      "outputs": [
        {
          "output_type": "stream",
          "name": "stdout",
          "text": [
            "Drivers driving for a single rideshare service made 55.4 trips (monthly) on average.\n",
            "Drivers driving for multiple rideshare services made 144.7 trips (monthly) on average.\n"
          ]
        }
      ]
    },
    {
      "cell_type": "markdown",
      "source": [
        "#### Manufacturer and the number of trips"
      ],
      "metadata": {
        "id": "EioLVvd3RZH6"
      }
    },
    {
      "cell_type": "markdown",
      "source": [
        "\n",
        "1. Study how you would solve the problem manually (manually here means without a computer)\n",
        "  - To identify manually the population of car manufacturers used for rides and the number of times a ride-share service is used, a viable although time-consuming method would be to establish an observation posts in high traffic areas for rides such as downtown Chicago. Track how many and how often ride share vehicles are spotted and what manufacturer brands are observed.\n",
        "2. Identify the promising transformations you may want to apply.\n",
        "  - Price on vehicles varies by manufacturer. We can apply weights to brands to establish entry requirements to ride-sharing services. We could also add weights to months of the year to aliviate seasonality distrotions.\n",
        "3. Identify extra data that would be useful (review \"Get the Data\" on page 502 from Hands on Machine Learning with Scikit-Learn and Tensor Flow 2ndE by Aurelien Geron).\n",
        "  - Team #10 can look into additional crime data, car accident data, and how many people become Uber/Lyft drivers per month. \n",
        "  \n",
        "4. Document what you have learned, submit a report (pdf or word) and your Jupiter notebook(ipynb, and pdf/html)"
      ],
      "metadata": {
        "id": "Z587smhjWo61"
      }
    },
    {
      "cell_type": "markdown",
      "source": [
        "Toyota seems to be the most popular brand of car for rideshares."
      ],
      "metadata": {
        "id": "GxJUUGccWYNS"
      }
    },
    {
      "cell_type": "code",
      "source": [
        "# Group by vehicle manufacturer\n",
        "df_by_make = ride1.groupby('MAKE', as_index=False).agg({\n",
        "    'NUMBER_OF_TRIPS': ['count', 'sum', 'mean']})\n",
        "\n",
        "df_by_make.columns = ['MAKE', 'NUM_REG', 'TOTAL_NUM_TRIPS', 'AVG_NUM_TRIPS']\n",
        "\n",
        "df_by_make.sort_values('NUM_REG', ascending=False).head(5)"
      ],
      "metadata": {
        "colab": {
          "base_uri": "https://localhost:8080/",
          "height": 206
        },
        "id": "7CqDSUFxQLXs",
        "outputId": "d39c4e70-0862-4cae-b167-de4f6a478ba5"
      },
      "execution_count": null,
      "outputs": [
        {
          "output_type": "execute_result",
          "data": {
            "text/plain": [
              "          MAKE  NUM_REG  TOTAL_NUM_TRIPS  AVG_NUM_TRIPS\n",
              "136     Toyota  1768442      168630876.0      95.355616\n",
              "108     Nissan   988188       68211393.0      69.026737\n",
              "30   Chevrolet   891586       44496256.0      49.906858\n",
              "59       Honda   804399       52003301.0      64.648640\n",
              "46        Ford   618604       35823950.0      57.910958"
            ],
            "text/html": [
              "\n",
              "  <div id=\"df-79aa8ee8-a50b-4a2b-ac60-ce5768c62478\">\n",
              "    <div class=\"colab-df-container\">\n",
              "      <div>\n",
              "<style scoped>\n",
              "    .dataframe tbody tr th:only-of-type {\n",
              "        vertical-align: middle;\n",
              "    }\n",
              "\n",
              "    .dataframe tbody tr th {\n",
              "        vertical-align: top;\n",
              "    }\n",
              "\n",
              "    .dataframe thead th {\n",
              "        text-align: right;\n",
              "    }\n",
              "</style>\n",
              "<table border=\"1\" class=\"dataframe\">\n",
              "  <thead>\n",
              "    <tr style=\"text-align: right;\">\n",
              "      <th></th>\n",
              "      <th>MAKE</th>\n",
              "      <th>NUM_REG</th>\n",
              "      <th>TOTAL_NUM_TRIPS</th>\n",
              "      <th>AVG_NUM_TRIPS</th>\n",
              "    </tr>\n",
              "  </thead>\n",
              "  <tbody>\n",
              "    <tr>\n",
              "      <th>136</th>\n",
              "      <td>Toyota</td>\n",
              "      <td>1768442</td>\n",
              "      <td>168630876.0</td>\n",
              "      <td>95.355616</td>\n",
              "    </tr>\n",
              "    <tr>\n",
              "      <th>108</th>\n",
              "      <td>Nissan</td>\n",
              "      <td>988188</td>\n",
              "      <td>68211393.0</td>\n",
              "      <td>69.026737</td>\n",
              "    </tr>\n",
              "    <tr>\n",
              "      <th>30</th>\n",
              "      <td>Chevrolet</td>\n",
              "      <td>891586</td>\n",
              "      <td>44496256.0</td>\n",
              "      <td>49.906858</td>\n",
              "    </tr>\n",
              "    <tr>\n",
              "      <th>59</th>\n",
              "      <td>Honda</td>\n",
              "      <td>804399</td>\n",
              "      <td>52003301.0</td>\n",
              "      <td>64.648640</td>\n",
              "    </tr>\n",
              "    <tr>\n",
              "      <th>46</th>\n",
              "      <td>Ford</td>\n",
              "      <td>618604</td>\n",
              "      <td>35823950.0</td>\n",
              "      <td>57.910958</td>\n",
              "    </tr>\n",
              "  </tbody>\n",
              "</table>\n",
              "</div>\n",
              "      <button class=\"colab-df-convert\" onclick=\"convertToInteractive('df-79aa8ee8-a50b-4a2b-ac60-ce5768c62478')\"\n",
              "              title=\"Convert this dataframe to an interactive table.\"\n",
              "              style=\"display:none;\">\n",
              "        \n",
              "  <svg xmlns=\"http://www.w3.org/2000/svg\" height=\"24px\"viewBox=\"0 0 24 24\"\n",
              "       width=\"24px\">\n",
              "    <path d=\"M0 0h24v24H0V0z\" fill=\"none\"/>\n",
              "    <path d=\"M18.56 5.44l.94 2.06.94-2.06 2.06-.94-2.06-.94-.94-2.06-.94 2.06-2.06.94zm-11 1L8.5 8.5l.94-2.06 2.06-.94-2.06-.94L8.5 2.5l-.94 2.06-2.06.94zm10 10l.94 2.06.94-2.06 2.06-.94-2.06-.94-.94-2.06-.94 2.06-2.06.94z\"/><path d=\"M17.41 7.96l-1.37-1.37c-.4-.4-.92-.59-1.43-.59-.52 0-1.04.2-1.43.59L10.3 9.45l-7.72 7.72c-.78.78-.78 2.05 0 2.83L4 21.41c.39.39.9.59 1.41.59.51 0 1.02-.2 1.41-.59l7.78-7.78 2.81-2.81c.8-.78.8-2.07 0-2.86zM5.41 20L4 18.59l7.72-7.72 1.47 1.35L5.41 20z\"/>\n",
              "  </svg>\n",
              "      </button>\n",
              "      \n",
              "  <style>\n",
              "    .colab-df-container {\n",
              "      display:flex;\n",
              "      flex-wrap:wrap;\n",
              "      gap: 12px;\n",
              "    }\n",
              "\n",
              "    .colab-df-convert {\n",
              "      background-color: #E8F0FE;\n",
              "      border: none;\n",
              "      border-radius: 50%;\n",
              "      cursor: pointer;\n",
              "      display: none;\n",
              "      fill: #1967D2;\n",
              "      height: 32px;\n",
              "      padding: 0 0 0 0;\n",
              "      width: 32px;\n",
              "    }\n",
              "\n",
              "    .colab-df-convert:hover {\n",
              "      background-color: #E2EBFA;\n",
              "      box-shadow: 0px 1px 2px rgba(60, 64, 67, 0.3), 0px 1px 3px 1px rgba(60, 64, 67, 0.15);\n",
              "      fill: #174EA6;\n",
              "    }\n",
              "\n",
              "    [theme=dark] .colab-df-convert {\n",
              "      background-color: #3B4455;\n",
              "      fill: #D2E3FC;\n",
              "    }\n",
              "\n",
              "    [theme=dark] .colab-df-convert:hover {\n",
              "      background-color: #434B5C;\n",
              "      box-shadow: 0px 1px 3px 1px rgba(0, 0, 0, 0.15);\n",
              "      filter: drop-shadow(0px 1px 2px rgba(0, 0, 0, 0.3));\n",
              "      fill: #FFFFFF;\n",
              "    }\n",
              "  </style>\n",
              "\n",
              "      <script>\n",
              "        const buttonEl =\n",
              "          document.querySelector('#df-79aa8ee8-a50b-4a2b-ac60-ce5768c62478 button.colab-df-convert');\n",
              "        buttonEl.style.display =\n",
              "          google.colab.kernel.accessAllowed ? 'block' : 'none';\n",
              "\n",
              "        async function convertToInteractive(key) {\n",
              "          const element = document.querySelector('#df-79aa8ee8-a50b-4a2b-ac60-ce5768c62478');\n",
              "          const dataTable =\n",
              "            await google.colab.kernel.invokeFunction('convertToInteractive',\n",
              "                                                     [key], {});\n",
              "          if (!dataTable) return;\n",
              "\n",
              "          const docLinkHtml = 'Like what you see? Visit the ' +\n",
              "            '<a target=\"_blank\" href=https://colab.research.google.com/notebooks/data_table.ipynb>data table notebook</a>'\n",
              "            + ' to learn more about interactive tables.';\n",
              "          element.innerHTML = '';\n",
              "          dataTable['output_type'] = 'display_data';\n",
              "          await google.colab.output.renderOutput(dataTable, element);\n",
              "          const docLink = document.createElement('div');\n",
              "          docLink.innerHTML = docLinkHtml;\n",
              "          element.appendChild(docLink);\n",
              "        }\n",
              "      </script>\n",
              "    </div>\n",
              "  </div>\n",
              "  "
            ]
          },
          "metadata": {},
          "execution_count": 39
        }
      ]
    },
    {
      "cell_type": "markdown",
      "source": [
        "#### Check Seasonality"
      ],
      "metadata": {
        "id": "vrxDB0OHTktF"
      }
    },
    {
      "cell_type": "markdown",
      "source": [
        "The graph below suggests that there is a number of trips have a seasonality, \n",
        "\n",
        "*   The most trips happen during the colder months of the year.\n",
        "*   Spring months are the lowest number of trips of the year.\n",
        "\n",
        "\n"
      ],
      "metadata": {
        "id": "59Uf8El-V8pU"
      }
    },
    {
      "cell_type": "code",
      "source": [
        "month_ride = ride1.groupby('Month')\n",
        "month_ride_mean = month_ride.count()\n",
        "num_ride = month_ride_mean[['NUMBER_OF_TRIPS']]\n",
        "month = num_ride.index.values.reshape(-1, 1)\n",
        "trips = num_ride.NUMBER_OF_TRIPS\n",
        "plt.xlabel('Month')\n",
        "plt.ylabel('Total Number of Trips')\n",
        "plt.title('Total Number of Trips vs. Month')\n",
        "plt.plot(month,trips);"
      ],
      "metadata": {
        "colab": {
          "base_uri": "https://localhost:8080/",
          "height": 295
        },
        "id": "NDJfjJolTjnc",
        "outputId": "6d024854-decc-493e-b1ea-3396925c8db8"
      },
      "execution_count": null,
      "outputs": [
        {
          "output_type": "display_data",
          "data": {
            "text/plain": [
              "<Figure size 432x288 with 1 Axes>"
            ],
            "image/png": "[encoded data removed]"
          },
          "metadata": {
            "needs_background": "light"
          }
        }
      ]
    },
    {
      "cell_type": "code",
      "source": [],
      "metadata": {
        "id": "52DTY9oQTkkL"
      },
      "execution_count": null,
      "outputs": []
    }
  ]
}